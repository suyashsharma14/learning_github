{
 "cells": [
  {
   "cell_type": "code",
   "execution_count": 1,
   "id": "64c74f4a",
   "metadata": {},
   "outputs": [
    {
     "name": "stdout",
     "output_type": "stream",
     "text": [
      "This is new code for model building\n"
     ]
    }
   ],
   "source": [
    "print(\"This is new code for model building\")"
   ]
  },
  {
   "cell_type": "code",
   "execution_count": 1,
   "id": "d433b772",
   "metadata": {},
   "outputs": [
    {
     "name": "stdout",
     "output_type": "stream",
     "text": [
      "model 1\n",
      "model 2\n",
      "model 3\n"
     ]
    }
   ],
   "source": [
    "print('model 1')\n",
    "print('model 2')\n",
    "print('model 3')"
   ]
  },
  {
   "cell_type": "code",
   "execution_count": null,
   "id": "91e4cf64",
   "metadata": {},
   "outputs": [],
   "source": []
  }
 ],
 "metadata": {
  "kernelspec": {
   "display_name": "Python 3 (ipykernel)",
   "language": "python",
   "name": "python3"
  },
  "language_info": {
   "codemirror_mode": {
    "name": "ipython",
    "version": 3
   },
   "file_extension": ".py",
   "mimetype": "text/x-python",
   "name": "python",
   "nbconvert_exporter": "python",
   "pygments_lexer": "ipython3",
   "version": "3.10.9"
  }
 },
 "nbformat": 4,
 "nbformat_minor": 5
}
